{
 "cells": [
  {
   "attachments": {},
   "cell_type": "markdown",
   "metadata": {},
   "source": [
    "https://towardsdatascience.com/deploy-machine-learning-models-right-from-your-jupyter-notebook-3241d47408cd"
   ]
  },
  {
   "cell_type": "code",
   "execution_count": 1,
   "metadata": {},
   "outputs": [
    {
     "name": "stdout",
     "output_type": "stream",
     "text": [
      "Defaulting to user installation because normal site-packages is not writeable\n",
      "Collecting modelbit\n",
      "  Downloading modelbit-0.21.11-py3-none-any.whl (81 kB)\n",
      "\u001b[2K     \u001b[90m━━━━━━━━━━━━━━━━━━━━━━━━━━━━━━━━━━━━━━━━\u001b[0m \u001b[32m81.5/81.5 KB\u001b[0m \u001b[31m2.3 MB/s\u001b[0m eta \u001b[36m0:00:00\u001b[0m\n",
      "\u001b[?25hCollecting types-pkg-resources\n",
      "  Downloading types_pkg_resources-0.1.3-py2.py3-none-any.whl (4.8 kB)\n",
      "Collecting zstd\n",
      "  Downloading zstd-1.5.5.1-cp310-cp310-manylinux_2_17_x86_64.manylinux2014_x86_64.whl (1.8 MB)\n",
      "\u001b[2K     \u001b[90m━━━━━━━━━━━━━━━━━━━━━━━━━━━━━━━━━━━━━━━━\u001b[0m \u001b[32m1.8/1.8 MB\u001b[0m \u001b[31m10.6 MB/s\u001b[0m eta \u001b[36m0:00:00\u001b[0ma \u001b[36m0:00:01\u001b[0m\n",
      "\u001b[?25hRequirement already satisfied: tqdm in /home/apprenant/.local/lib/python3.10/site-packages (from modelbit) (4.64.1)\n",
      "Requirement already satisfied: appdirs in /usr/lib/python3/dist-packages (from modelbit) (1.4.4)\n",
      "Requirement already satisfied: pkginfo in /home/apprenant/.local/lib/python3.10/site-packages (from modelbit) (1.8.3)\n",
      "Collecting texttable\n",
      "  Downloading texttable-1.6.7-py2.py3-none-any.whl (10 kB)\n",
      "Collecting build\n",
      "  Using cached build-0.10.0-py3-none-any.whl (17 kB)\n",
      "Requirement already satisfied: pyyaml in /usr/lib/python3/dist-packages (from modelbit) (5.4.1)\n",
      "Requirement already satisfied: pandas in /home/apprenant/.local/lib/python3.10/site-packages (from modelbit) (1.4.2)\n",
      "Requirement already satisfied: requests in /home/apprenant/.local/lib/python3.10/site-packages (from modelbit) (2.28.0)\n",
      "Collecting types-PyYAML\n",
      "  Downloading types_PyYAML-6.0.12.10-py3-none-any.whl (14 kB)\n",
      "Requirement already satisfied: jinja2 in /home/apprenant/.local/lib/python3.10/site-packages (from modelbit) (3.1.2)\n",
      "Collecting types-requests\n",
      "  Downloading types_requests-2.31.0.1-py3-none-any.whl (14 kB)\n",
      "Collecting pycryptodomex\n",
      "  Downloading pycryptodomex-3.18.0-cp35-abi3-manylinux_2_17_x86_64.manylinux2014_x86_64.whl (2.1 MB)\n",
      "\u001b[2K     \u001b[90m━━━━━━━━━━━━━━━━━━━━━━━━━━━━━━━━━━━━━━━━\u001b[0m \u001b[32m2.1/2.1 MB\u001b[0m \u001b[31m10.7 MB/s\u001b[0m eta \u001b[36m0:00:00\u001b[0ma \u001b[36m0:00:01\u001b[0m\n",
      "\u001b[?25hCollecting pyproject_hooks\n",
      "  Using cached pyproject_hooks-1.0.0-py3-none-any.whl (9.3 kB)\n",
      "Requirement already satisfied: packaging>=19.0 in /home/apprenant/.local/lib/python3.10/site-packages (from build->modelbit) (21.3)\n",
      "Requirement already satisfied: tomli>=1.1.0 in /home/apprenant/.local/lib/python3.10/site-packages (from build->modelbit) (2.0.1)\n",
      "Requirement already satisfied: MarkupSafe>=2.0 in /home/apprenant/.local/lib/python3.10/site-packages (from jinja2->modelbit) (2.1.1)\n",
      "Requirement already satisfied: pytz>=2020.1 in /usr/lib/python3/dist-packages (from pandas->modelbit) (2022.1)\n",
      "Requirement already satisfied: numpy>=1.21.0 in /home/apprenant/.local/lib/python3.10/site-packages (from pandas->modelbit) (1.22.4)\n",
      "Requirement already satisfied: python-dateutil>=2.8.1 in /home/apprenant/.local/lib/python3.10/site-packages (from pandas->modelbit) (2.8.2)\n",
      "Requirement already satisfied: certifi>=2017.4.17 in /home/apprenant/.local/lib/python3.10/site-packages (from requests->modelbit) (2022.6.15)\n",
      "Requirement already satisfied: idna<4,>=2.5 in /usr/lib/python3/dist-packages (from requests->modelbit) (3.3)\n",
      "Requirement already satisfied: urllib3<1.27,>=1.21.1 in /home/apprenant/.local/lib/python3.10/site-packages (from requests->modelbit) (1.26.15)\n",
      "Requirement already satisfied: charset-normalizer~=2.0.0 in /home/apprenant/.local/lib/python3.10/site-packages (from requests->modelbit) (2.0.12)\n",
      "Collecting types-urllib3\n",
      "  Downloading types_urllib3-1.26.25.13-py3-none-any.whl (15 kB)\n",
      "Requirement already satisfied: pyparsing!=3.0.5,>=2.0.2 in /usr/lib/python3/dist-packages (from packaging>=19.0->build->modelbit) (2.4.7)\n",
      "Requirement already satisfied: six>=1.5 in /usr/lib/python3/dist-packages (from python-dateutil>=2.8.1->pandas->modelbit) (1.16.0)\n",
      "Installing collected packages: zstd, types-urllib3, types-PyYAML, types-pkg-resources, texttable, types-requests, pyproject_hooks, pycryptodomex, build, modelbit\n",
      "Successfully installed build-0.10.0 modelbit-0.21.11 pycryptodomex-3.18.0 pyproject_hooks-1.0.0 texttable-1.6.7 types-PyYAML-6.0.12.10 types-pkg-resources-0.1.3 types-requests-2.31.0.1 types-urllib3-1.26.25.13 zstd-1.5.5.1\n"
     ]
    }
   ],
   "source": [
    "!pip install modelbit"
   ]
  },
  {
   "cell_type": "code",
   "execution_count": 2,
   "metadata": {},
   "outputs": [
    {
     "data": {
      "text/html": [
       "<div style=\"margin: 0; padding: 5px; line-height: 1.75; font-size: 14px; vertical-align: baseline; list-style: none; font-family: Roboto, Arial, sans-serif; background: none;\">\n",
       "  <div style=\"margin: 0; padding: 0; line-height: 1.75; font-size: 14px; vertical-align: baseline; list-style: none; font-family: Roboto, Arial, sans-serif; background: none;\">\n",
       "    You're <span style=\"margin: 0; padding: 0; line-height: 1.75; font-size: 14px; vertical-align: baseline; list-style: none; font-family: Roboto, Arial, sans-serif; background: none; color: green; font-weight: bold;\">connected</span> to Modelbit as e.a.darwich@gmail.com.\n",
       "    Workspace: <span style=\"margin: 0; padding: 0; line-height: 1.75; font-size: 14px; vertical-align: baseline; list-style: none; font-family: monospace; background: none; font-weight: bold; color: #714488;\">emaddarwich</span>.\n",
       "    \n",
       "    Branch: <span style=\"margin: 0; padding: 0; line-height: 1.75; font-size: 14px; vertical-align: baseline; list-style: none; font-family: monospace; background: none; font-weight: bold; color: #714488;\">main</span>\n",
       "\t</div>\n",
       "  \n",
       "  \n",
       "\n",
       "\n",
       "</div>"
      ],
      "text/plain": [
       "<IPython.core.display.HTML object>"
      ]
     },
     "metadata": {},
     "output_type": "display_data"
    }
   ],
   "source": [
    "import modelbit\n",
    "mb = modelbit.login()"
   ]
  },
  {
   "cell_type": "code",
   "execution_count": 3,
   "metadata": {},
   "outputs": [
    {
     "data": {
      "text/html": [
       "<div style=\"margin: 0; padding: 5px; line-height: 1.75; font-size: 14px; vertical-align: baseline; list-style: none; font-family: Roboto, Arial, sans-serif; background: none;\">\n",
       "  <div style=\"margin: 0; padding: 0; line-height: 1.75; font-size: 14px; vertical-align: baseline; list-style: none; font-family: Roboto, Arial, sans-serif; background: none; font-weight: bold; color: green;\">\n",
       "    Deploying <span style=\"margin: 0; padding: 3px; line-height: 1.75; font-size: 13px; vertical-align: baseline; list-style: none; font-family: monospace; background: none; color: #714488; font-weight: 400; background-color: #f3f4f6;\">double_number</span>\n",
       "  </div>\n",
       "\n",
       "  \n",
       "\n",
       "  <div style=\"margin: 0; padding: 0; line-height: 1.75; font-size: 14px; vertical-align: baseline; list-style: none; font-family: Roboto, Arial, sans-serif; background: none;\">Uploading dependencies...</div>\n",
       "</div>"
      ],
      "text/plain": [
       "<IPython.core.display.HTML object>"
      ]
     },
     "metadata": {},
     "output_type": "display_data"
    },
    {
     "data": {
      "text/html": [
       "<div style=\"margin: 0; padding: 5px; line-height: 1.75; font-size: 14px; vertical-align: baseline; list-style: none; font-family: Roboto, Arial, sans-serif; background: none;\">\n",
       "  <div style=\"margin: 0; padding: 0; line-height: 1.75; font-size: 14px; vertical-align: baseline; list-style: none; font-family: Roboto, Arial, sans-serif; background: none; font-weight: bold; color: green;\">Success!</div>\n",
       "  \n",
       "    <div style=\"margin: 0; padding: 0; line-height: 1.75; font-size: 14px; vertical-align: baseline; list-style: none; font-family: Roboto, Arial, sans-serif; background: none;\">\n",
       "      Deployment <span style=\"margin: 0; padding: 3px; line-height: 1.75; font-size: 13px; vertical-align: baseline; list-style: none; font-family: monospace; background: none; color: #714488; font-weight: 400; background-color: #f3f4f6;\">double_number</span>\n",
       "      will be ready in  a couple minutes.\n",
       "    </div>\n",
       "  \n",
       "\n",
       "  <a href=\"https://app.modelbit.com/w/emaddarwich/main/deployments/double_number/apis?first=1\" target=\"_blank\" style=\"display: inline-block; margin-top: 12px;\" >\n",
       "    <div\n",
       "      style=\"display: inline-block; background-color: #845B99; border-radius: 0.375rem; color: white; cursor: pointer; font-size: 14px; font-weight: 700; padding: 8px 16px;\"\n",
       "      onmouseenter=\"this.style.background='#714488'\"\n",
       "      onmouseleave=\"this.style.background='#845B99'\"\n",
       "    >\n",
       "      View in Modelbit\n",
       "    </div>\n",
       "  </a>\n",
       "</div>"
      ],
      "text/plain": [
       "<IPython.core.display.HTML object>"
      ]
     },
     "metadata": {},
     "output_type": "display_data"
    }
   ],
   "source": [
    "def double_number(num: float) -> float:\n",
    "    \"\"\"\n",
    "    Example model that doubles numbers\n",
    "    >>> double_number(21)\n",
    "    42\n",
    "    \"\"\"\n",
    "    return 2 * num\n",
    "\n",
    "mb.deploy(double_number)"
   ]
  },
  {
   "cell_type": "code",
   "execution_count": 48,
   "metadata": {},
   "outputs": [],
   "source": [
    "!curl -s -XPOST \"https://emaddarwich.app.modelbit.com/v1/send_mail_without_attachement/latest\" -d '{\"data\": [\"'$x'\", \"e.a.darwich@gmail.com\"]}' | json_pp"
   ]
  },
  {
   "cell_type": "code",
   "execution_count": 60,
   "metadata": {},
   "outputs": [],
   "source": [
    "message = 'test'\n",
    "to = 'e.a.darwich@gmail.com'"
   ]
  },
  {
   "cell_type": "code",
   "execution_count": 61,
   "metadata": {},
   "outputs": [
    {
     "name": "stdout",
     "output_type": "stream",
     "text": [
      "CompletedProcess(args='curl -s -XPOST \"https://emaddarwich.app.modelbit.com/v1/send_mail_without_attachement/latest\" -d \\'{\"data\": [\"test\", \"e.a.darwich@gmail.com\"]}\\' | json_pp', returncode=0, stdout='{\\n   \"data\" : null\\n}\\n', stderr='')\n"
     ]
    }
   ],
   "source": [
    "import subprocess\n",
    "# Construct the curl command with the variable substitution\n",
    "curl_command = 'curl -s -XPOST \"https://emaddarwich.app.modelbit.com/v1/send_mail_without_attachement/latest\" -d \\'{{\"data\": [\"{}\", \"{}\"]}}\\' | json_pp'.format(message, to)\n",
    "print(subprocess.run(curl_command, shell=True, capture_output=True, text=True))\n"
   ]
  },
  {
   "cell_type": "code",
   "execution_count": 57,
   "metadata": {},
   "outputs": [
    {
     "data": {
      "text/plain": [
       "3"
      ]
     },
     "execution_count": 57,
     "metadata": {},
     "output_type": "execute_result"
    }
   ],
   "source": []
  },
  {
   "cell_type": "code",
   "execution_count": null,
   "metadata": {},
   "outputs": [],
   "source": []
  }
 ],
 "metadata": {
  "kernelspec": {
   "display_name": "Python 3",
   "language": "python",
   "name": "python3"
  },
  "language_info": {
   "codemirror_mode": {
    "name": "ipython",
    "version": 3
   },
   "file_extension": ".py",
   "mimetype": "text/x-python",
   "name": "python",
   "nbconvert_exporter": "python",
   "pygments_lexer": "ipython3",
   "version": "3.10.6"
  },
  "orig_nbformat": 4
 },
 "nbformat": 4,
 "nbformat_minor": 2
}
