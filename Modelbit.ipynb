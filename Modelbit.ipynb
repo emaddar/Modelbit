{
 "cells": [
  {
   "attachments": {},
   "cell_type": "markdown",
   "metadata": {},
   "source": [
    "https://towardsdatascience.com/deploy-machine-learning-models-right-from-your-jupyter-notebook-3241d47408cd"
   ]
  },
  {
   "cell_type": "code",
   "execution_count": null,
   "metadata": {},
   "outputs": [],
   "source": [
    "!pip install modelbit"
   ]
  },
  {
   "cell_type": "code",
   "execution_count": 2,
   "metadata": {},
   "outputs": [
    {
     "data": {
      "text/html": [
       "<div style=\"margin: 0; padding: 5px; line-height: 1.75; font-size: 14px; vertical-align: baseline; list-style: none; font-family: Roboto, Arial, sans-serif; background: none;\">\n",
       "  <div style=\"margin: 0; padding: 0; line-height: 1.75; font-size: 14px; vertical-align: baseline; list-style: none; font-family: Roboto, Arial, sans-serif; background: none;\">\n",
       "    You're <span style=\"margin: 0; padding: 0; line-height: 1.75; font-size: 14px; vertical-align: baseline; list-style: none; font-family: Roboto, Arial, sans-serif; background: none; color: green; font-weight: bold;\">connected</span> to Modelbit as e.a.darwich@gmail.com.\n",
       "    Workspace: <span style=\"margin: 0; padding: 0; line-height: 1.75; font-size: 14px; vertical-align: baseline; list-style: none; font-family: monospace; background: none; font-weight: bold; color: #714488;\">emaddarwich</span>.\n",
       "    \n",
       "    Branch: <span style=\"margin: 0; padding: 0; line-height: 1.75; font-size: 14px; vertical-align: baseline; list-style: none; font-family: monospace; background: none; font-weight: bold; color: #714488;\">main</span>\n",
       "\t</div>\n",
       "  \n",
       "  \n",
       "\n",
       "\n",
       "</div>"
      ],
      "text/plain": [
       "<IPython.core.display.HTML object>"
      ]
     },
     "metadata": {},
     "output_type": "display_data"
    }
   ],
   "source": [
    "import modelbit\n",
    "mb = modelbit.login()"
   ]
  },
  {
   "cell_type": "code",
   "execution_count": 127,
   "metadata": {},
   "outputs": [],
   "source": [
    "email_receivers = 'emad.aldeen.darwich@gmail.com'\n",
    "body = f\"\"\" This is the body... \"\"\"\n",
    "subject = \"Subject\"\n"
   ]
  },
  {
   "cell_type": "code",
   "execution_count": 134,
   "metadata": {},
   "outputs": [],
   "source": [
    "import smtplib\n",
    "import ssl\n",
    "from email.message import EmailMessage\n",
    "from datetime import datetime\n",
    "import os\n",
    "\n",
    "#  send_mail_without_attachement\n",
    "def send_mail(email_receivers : str, body : str, subject: str):\n",
    "    \"\"\"\n",
    "    Example model send mail\n",
    "    >>> send_mail('e.a.darwich@gmail.com', 'this is the body', 'this is th subject')\n",
    "    null\n",
    "    \"\"\"\n",
    "\n",
    "    email_sender = os.getenv(\"email_sender\")    \n",
    "    email_password = os.getenv(\"email_password\")\n",
    "\n",
    "    em = EmailMessage()\n",
    "    em['From'] = email_sender\n",
    "    em['To'] = email_receivers\n",
    "    em['Subject'] = subject\n",
    "    em.set_content(body)\n",
    "\n",
    "    context = ssl.create_default_context()\n",
    "\n",
    "\n",
    "\n",
    "    with smtplib.SMTP_SSL('smtp.gmail.com', 465, context=context) as smtp:\n",
    "        smtp.login(email_sender, email_password)\n",
    "        smtp.sendmail(email_sender, email_receivers, em.as_string())\n",
    "        \n",
    "    print(f\"Mail sent to : {email_receivers}\")"
   ]
  },
  {
   "cell_type": "code",
   "execution_count": 135,
   "metadata": {},
   "outputs": [
    {
     "name": "stdout",
     "output_type": "stream",
     "text": [
      "Mail sent to : emad.aldeen.darwich@gmail.com\n"
     ]
    }
   ],
   "source": [
    "send_mail(email_receivers, body, subject)"
   ]
  },
  {
   "attachments": {},
   "cell_type": "markdown",
   "metadata": {},
   "source": [
    "# Deployments"
   ]
  },
  {
   "cell_type": "code",
   "execution_count": 136,
   "metadata": {},
   "outputs": [
    {
     "name": "stdout",
     "output_type": "stream",
     "text": [
      "Mail sent to : e.a.darwich@gmail.com\n"
     ]
    },
    {
     "data": {
      "text/html": [
       "<div style=\"margin: 0; padding: 5px; line-height: 1.75; font-size: 14px; vertical-align: baseline; list-style: none; font-family: Roboto, Arial, sans-serif; background: none;\">\n",
       "  <div style=\"margin: 0; padding: 0; line-height: 1.75; font-size: 14px; vertical-align: baseline; list-style: none; font-family: Roboto, Arial, sans-serif; background: none; font-weight: bold; color: green;\">\n",
       "    Deploying <span style=\"margin: 0; padding: 3px; line-height: 1.75; font-size: 13px; vertical-align: baseline; list-style: none; font-family: monospace; background: none; color: #714488; font-weight: 400; background-color: #f3f4f6;\">send_mail</span>\n",
       "  </div>\n",
       "\n",
       "  \n",
       "\n",
       "  <div style=\"margin: 0; padding: 0; line-height: 1.75; font-size: 14px; vertical-align: baseline; list-style: none; font-family: Roboto, Arial, sans-serif; background: none;\">Uploading dependencies...</div>\n",
       "</div>"
      ],
      "text/plain": [
       "<IPython.core.display.HTML object>"
      ]
     },
     "metadata": {},
     "output_type": "display_data"
    },
    {
     "data": {
      "text/html": [
       "<div style=\"margin: 0; padding: 5px; line-height: 1.75; font-size: 14px; vertical-align: baseline; list-style: none; font-family: Roboto, Arial, sans-serif; background: none;\">\n",
       "  <div style=\"margin: 0; padding: 0; line-height: 1.75; font-size: 14px; vertical-align: baseline; list-style: none; font-family: Roboto, Arial, sans-serif; background: none; font-weight: bold; color: green;\">Success!</div>\n",
       "  \n",
       "    <div style=\"margin: 0; padding: 0; line-height: 1.75; font-size: 14px; vertical-align: baseline; list-style: none; font-family: Roboto, Arial, sans-serif; background: none;\">\n",
       "      Deployment <span style=\"margin: 0; padding: 3px; line-height: 1.75; font-size: 13px; vertical-align: baseline; list-style: none; font-family: monospace; background: none; color: #714488; font-weight: 400; background-color: #f3f4f6;\">send_mail</span>\n",
       "      will be ready in  a few seconds!\n",
       "    </div>\n",
       "  \n",
       "\n",
       "  <a href=\"https://app.modelbit.com/w/emaddarwich/main/deployments/send_mail/apis\" target=\"_blank\" style=\"display: inline-block; margin-top: 12px;\" >\n",
       "    <div\n",
       "      style=\"display: inline-block; background-color: #845B99; border-radius: 0.375rem; color: white; cursor: pointer; font-size: 14px; font-weight: 700; padding: 8px 16px;\"\n",
       "      onmouseenter=\"this.style.background='#714488'\"\n",
       "      onmouseleave=\"this.style.background='#845B99'\"\n",
       "    >\n",
       "      View in Modelbit\n",
       "    </div>\n",
       "  </a>\n",
       "</div>"
      ],
      "text/plain": [
       "<IPython.core.display.HTML object>"
      ]
     },
     "metadata": {},
     "output_type": "display_data"
    }
   ],
   "source": [
    "mb.deploy(send_mail)"
   ]
  },
  {
   "cell_type": "code",
   "execution_count": 138,
   "metadata": {},
   "outputs": [
    {
     "name": "stdout",
     "output_type": "stream",
     "text": [
      "{\n",
      "   \"data\" : null\n",
      "}\n"
     ]
    }
   ],
   "source": [
    "!curl -s -XPOST \"https://emaddarwich.app.modelbit.com/v1/send_mail/latest\" -d '{\"data\": [\"e.a.darwich@gmail.com\", \"this is the body\", \"this is th subject\"]}' | json_pp"
   ]
  },
  {
   "cell_type": "code",
   "execution_count": 144,
   "metadata": {},
   "outputs": [
    {
     "name": "stdout",
     "output_type": "stream",
     "text": [
      "CompletedProcess(args='curl -s -XPOST \"https://emaddarwich.app.modelbit.com/v1/send_mail/latest\" -d \\'{\"data\": [\"e.a.darwich@gmail.com\", \" This is the body... 3\", \"Subject\"]}\\' | json_pp', returncode=0, stdout='{\\n   \"data\" : null\\n}\\n', stderr='')\n"
     ]
    }
   ],
   "source": [
    "import subprocess\n",
    "\n",
    "x = 3\n",
    "email_receivers = 'e.a.darwich@gmail.com'\n",
    "body = f\"\"\" This is the body... {x}\"\"\"\n",
    "subject = \"Subject\"\n",
    "\n",
    "\n",
    "# Construct the curl command with the variable substitution\n",
    "curl_command = 'curl -s -XPOST \"https://emaddarwich.app.modelbit.com/v1/send_mail/latest\" -d \\'{{\"data\": [\"{}\", \"{}\", \"{}\"]}}\\' | json_pp'.format(email_receivers, body, subject)\n",
    "print(subprocess.run(curl_command, shell=True, capture_output=True, text=True))"
   ]
  },
  {
   "cell_type": "code",
   "execution_count": null,
   "metadata": {},
   "outputs": [],
   "source": []
  }
 ],
 "metadata": {
  "kernelspec": {
   "display_name": "Python 3",
   "language": "python",
   "name": "python3"
  },
  "language_info": {
   "codemirror_mode": {
    "name": "ipython",
    "version": 3
   },
   "file_extension": ".py",
   "mimetype": "text/x-python",
   "name": "python",
   "nbconvert_exporter": "python",
   "pygments_lexer": "ipython3",
   "version": "3.10.6"
  },
  "orig_nbformat": 4
 },
 "nbformat": 4,
 "nbformat_minor": 2
}
